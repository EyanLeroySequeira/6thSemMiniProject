{
 "cells": [
  {
   "cell_type": "markdown",
   "metadata": {},
   "source": [
    "# MiniProject\n",
    "# Symtoms Based Disese Prediction"
   ]
  },
  {
   "cell_type": "code",
   "execution_count": 4,
   "metadata": {},
   "outputs": [],
   "source": [
    "#load dataset and tools\n",
    "import numpy as np\n",
    "\n",
    "import pandas as pd "
   ]
  },
  {
   "cell_type": "code",
   "execution_count": 5,
   "metadata": {},
   "outputs": [],
   "source": [
    "\n",
    "data= pd.read_csv('./datasets/dataset1_sparseformat.csv')"
   ]
  },
  {
   "cell_type": "code",
   "execution_count": 6,
   "metadata": {},
   "outputs": [
    {
     "data": {
      "text/html": [
       "<div>\n",
       "<style scoped>\n",
       "    .dataframe tbody tr th:only-of-type {\n",
       "        vertical-align: middle;\n",
       "    }\n",
       "\n",
       "    .dataframe tbody tr th {\n",
       "        vertical-align: top;\n",
       "    }\n",
       "\n",
       "    .dataframe thead th {\n",
       "        text-align: right;\n",
       "    }\n",
       "</style>\n",
       "<table border=\"1\" class=\"dataframe\">\n",
       "  <thead>\n",
       "    <tr style=\"text-align: right;\">\n",
       "      <th></th>\n",
       "      <th>abdominal_pain</th>\n",
       "      <th>abnormal_menstruation</th>\n",
       "      <th>achy_feeling_in_upper_teeth</th>\n",
       "      <th>acidity</th>\n",
       "      <th>acute_liver_failure</th>\n",
       "      <th>altered_sensorium</th>\n",
       "      <th>anxiety</th>\n",
       "      <th>areas_of_darkened_skin</th>\n",
       "      <th>arrhythmia</th>\n",
       "      <th>back_pain</th>\n",
       "      <th>...</th>\n",
       "      <th>weight_changes</th>\n",
       "      <th>weight_gain</th>\n",
       "      <th>weight_loss</th>\n",
       "      <th>wheezing</th>\n",
       "      <th>worsening_pain_if_bend_forward_or_lie_down</th>\n",
       "      <th>yellow_crust_ooze</th>\n",
       "      <th>yellow_urine</th>\n",
       "      <th>yellowing_of_eyes</th>\n",
       "      <th>yellowish_skin</th>\n",
       "      <th>disease</th>\n",
       "    </tr>\n",
       "  </thead>\n",
       "  <tbody>\n",
       "    <tr>\n",
       "      <th>0</th>\n",
       "      <td>0</td>\n",
       "      <td>0</td>\n",
       "      <td>0</td>\n",
       "      <td>0</td>\n",
       "      <td>0</td>\n",
       "      <td>0</td>\n",
       "      <td>0</td>\n",
       "      <td>0</td>\n",
       "      <td>0</td>\n",
       "      <td>0</td>\n",
       "      <td>...</td>\n",
       "      <td>0</td>\n",
       "      <td>0</td>\n",
       "      <td>1</td>\n",
       "      <td>0</td>\n",
       "      <td>0</td>\n",
       "      <td>0</td>\n",
       "      <td>0</td>\n",
       "      <td>1</td>\n",
       "      <td>1</td>\n",
       "      <td>Cirrhosis</td>\n",
       "    </tr>\n",
       "    <tr>\n",
       "      <th>1</th>\n",
       "      <td>0</td>\n",
       "      <td>0</td>\n",
       "      <td>0</td>\n",
       "      <td>0</td>\n",
       "      <td>0</td>\n",
       "      <td>0</td>\n",
       "      <td>0</td>\n",
       "      <td>0</td>\n",
       "      <td>0</td>\n",
       "      <td>0</td>\n",
       "      <td>...</td>\n",
       "      <td>0</td>\n",
       "      <td>0</td>\n",
       "      <td>0</td>\n",
       "      <td>0</td>\n",
       "      <td>0</td>\n",
       "      <td>0</td>\n",
       "      <td>0</td>\n",
       "      <td>0</td>\n",
       "      <td>0</td>\n",
       "      <td>Bronchial Asthma</td>\n",
       "    </tr>\n",
       "    <tr>\n",
       "      <th>2</th>\n",
       "      <td>0</td>\n",
       "      <td>0</td>\n",
       "      <td>0</td>\n",
       "      <td>0</td>\n",
       "      <td>0</td>\n",
       "      <td>0</td>\n",
       "      <td>0</td>\n",
       "      <td>0</td>\n",
       "      <td>0</td>\n",
       "      <td>0</td>\n",
       "      <td>...</td>\n",
       "      <td>0</td>\n",
       "      <td>0</td>\n",
       "      <td>0</td>\n",
       "      <td>0</td>\n",
       "      <td>0</td>\n",
       "      <td>0</td>\n",
       "      <td>0</td>\n",
       "      <td>0</td>\n",
       "      <td>0</td>\n",
       "      <td>Malaria</td>\n",
       "    </tr>\n",
       "    <tr>\n",
       "      <th>3</th>\n",
       "      <td>0</td>\n",
       "      <td>0</td>\n",
       "      <td>0</td>\n",
       "      <td>0</td>\n",
       "      <td>0</td>\n",
       "      <td>0</td>\n",
       "      <td>0</td>\n",
       "      <td>0</td>\n",
       "      <td>0</td>\n",
       "      <td>0</td>\n",
       "      <td>...</td>\n",
       "      <td>0</td>\n",
       "      <td>0</td>\n",
       "      <td>0</td>\n",
       "      <td>0</td>\n",
       "      <td>0</td>\n",
       "      <td>0</td>\n",
       "      <td>0</td>\n",
       "      <td>1</td>\n",
       "      <td>1</td>\n",
       "      <td>Hepatitis C</td>\n",
       "    </tr>\n",
       "    <tr>\n",
       "      <th>4</th>\n",
       "      <td>0</td>\n",
       "      <td>0</td>\n",
       "      <td>0</td>\n",
       "      <td>0</td>\n",
       "      <td>0</td>\n",
       "      <td>0</td>\n",
       "      <td>0</td>\n",
       "      <td>0</td>\n",
       "      <td>0</td>\n",
       "      <td>0</td>\n",
       "      <td>...</td>\n",
       "      <td>0</td>\n",
       "      <td>0</td>\n",
       "      <td>0</td>\n",
       "      <td>0</td>\n",
       "      <td>0</td>\n",
       "      <td>0</td>\n",
       "      <td>0</td>\n",
       "      <td>0</td>\n",
       "      <td>0</td>\n",
       "      <td>Osteoarthristis</td>\n",
       "    </tr>\n",
       "  </tbody>\n",
       "</table>\n",
       "<p>5 rows × 285 columns</p>\n",
       "</div>"
      ],
      "text/plain": [
       "   abdominal_pain  abnormal_menstruation  achy_feeling_in_upper_teeth  \\\n",
       "0               0                      0                            0   \n",
       "1               0                      0                            0   \n",
       "2               0                      0                            0   \n",
       "3               0                      0                            0   \n",
       "4               0                      0                            0   \n",
       "\n",
       "   acidity  acute_liver_failure  altered_sensorium  anxiety  \\\n",
       "0        0                    0                  0        0   \n",
       "1        0                    0                  0        0   \n",
       "2        0                    0                  0        0   \n",
       "3        0                    0                  0        0   \n",
       "4        0                    0                  0        0   \n",
       "\n",
       "   areas_of_darkened_skin  arrhythmia  back_pain  ...  weight_changes  \\\n",
       "0                       0           0          0  ...               0   \n",
       "1                       0           0          0  ...               0   \n",
       "2                       0           0          0  ...               0   \n",
       "3                       0           0          0  ...               0   \n",
       "4                       0           0          0  ...               0   \n",
       "\n",
       "   weight_gain  weight_loss  wheezing  \\\n",
       "0            0            1         0   \n",
       "1            0            0         0   \n",
       "2            0            0         0   \n",
       "3            0            0         0   \n",
       "4            0            0         0   \n",
       "\n",
       "   worsening_pain_if_bend_forward_or_lie_down  yellow_crust_ooze  \\\n",
       "0                                           0                  0   \n",
       "1                                           0                  0   \n",
       "2                                           0                  0   \n",
       "3                                           0                  0   \n",
       "4                                           0                  0   \n",
       "\n",
       "   yellow_urine  yellowing_of_eyes  yellowish_skin           disease  \n",
       "0             0                  1               1         Cirrhosis  \n",
       "1             0                  0               0  Bronchial Asthma  \n",
       "2             0                  0               0           Malaria  \n",
       "3             0                  1               1       Hepatitis C  \n",
       "4             0                  0               0   Osteoarthristis  \n",
       "\n",
       "[5 rows x 285 columns]"
      ]
     },
     "execution_count": 6,
     "metadata": {},
     "output_type": "execute_result"
    }
   ],
   "source": [
    "data.head()"
   ]
  },
  {
   "cell_type": "code",
   "execution_count": 7,
   "metadata": {},
   "outputs": [
    {
     "data": {
      "text/plain": [
       "(4500, 285)"
      ]
     },
     "execution_count": 7,
     "metadata": {},
     "output_type": "execute_result"
    }
   ],
   "source": [
    "data.shape"
   ]
  },
  {
   "cell_type": "code",
   "execution_count": 8,
   "metadata": {},
   "outputs": [
    {
     "name": "stdout",
     "output_type": "stream",
     "text": [
      "Index(['abdominal_pain', 'abnormal_menstruation',\n",
      "       'achy_feeling_in_upper_teeth', 'acidity', 'acute_liver_failure',\n",
      "       'altered_sensorium', 'anxiety', 'areas_of_darkened_skin', 'arrhythmia',\n",
      "       'back_pain',\n",
      "       ...\n",
      "       'weight_changes', 'weight_gain', 'weight_loss', 'wheezing',\n",
      "       'worsening_pain_if_bend_forward_or_lie_down', 'yellow_crust_ooze',\n",
      "       'yellow_urine', 'yellowing_of_eyes', 'yellowish_skin', 'disease'],\n",
      "      dtype='object', length=285)\n"
     ]
    }
   ],
   "source": [
    "print(data.columns)"
   ]
  },
  {
   "cell_type": "code",
   "execution_count": 9,
   "metadata": {},
   "outputs": [
    {
     "name": "stdout",
     "output_type": "stream",
     "text": [
      "{'abdominal_pain': 0, 'abnormal_menstruation': 1, 'achy_feeling_in_upper_teeth': 2, 'acidity': 3, 'acute_liver_failure': 4, 'altered_sensorium': 5, 'anxiety': 6, 'areas_of_darkened_skin': 7, 'arrhythmia': 8, 'back_pain': 9, 'belly_pain': 10, 'blackheads': 11, 'bladder_discomfort': 12, 'bleeding_gum_or_nose': 13, 'blister': 14, 'blisters': 15, 'blood_in _sputum': 16, 'blood_in_sputum': 17, 'bloody_stool': 18, 'blurred_and_distorted_vision': 19, 'blurry_vision': 20, 'bone_pain': 21, 'breathing_in_unusual_pattern': 22, 'breathlessness': 23, 'brittle_nails': 24, 'bruising': 25, 'burning_micturition': 26, 'cardiac_arrhythmia': 27, 'changes_in_bowel_or_bladder_habits': 28, 'changes_in_bowel_patterns': 29, 'changes_in_menstrual_cycles': 30, 'changes_in_skin_color': 31, 'changes_to_existing_moles': 32, 'chest_pain': 33, 'chest_tightness': 34, 'chills': 35, 'chronic_diarrhea': 36, 'cold_hands_and_feets': 37, 'coma': 38, 'confused': 39, 'confusion': 40, 'congestion': 41, 'constipation': 42, 'continuous_feel_of_urine': 43, 'continuous_sneezing': 44, 'cough': 45, 'coughing': 46, 'coughing_wheezing_attacks_that_worsened_respiratory_virus_such_cold_flu': 47, 'cramps': 48, 'dark_urine': 49, 'darkening_or_redness_skin': 50, 'daytime_tiredness_sleepiness': 51, 'dehydration': 52, 'depression': 53, 'diarrhea': 54, 'diarrhoea': 55, 'difficulty_concentrating': 56, 'difficulty_falling_asleep_at_night': 57, 'difficulty_focusing': 58, 'difficulty_paying_attention_focusing_on_tasks': 59, 'difficulty_swallowing': 60, 'dischromic__patches': 61, 'discomfort_after_eating': 62, 'distention_of_abdomen': 63, 'dizziness': 64, 'drowsiness_slurred_speech': 65, 'dry_cough': 66, 'dry_red_scaly_patches_on_skin': 67, 'drying_and_tingling_lips': 68, 'enlarged_thyroid': 69, 'enlarged_thyroid_gland': 70, 'excessive_hunger': 71, 'excessive_thirst': 72, 'extra_marital_contacts': 73, 'eye_irritation': 74, 'eyesight_problems': 75, 'fainting': 76, 'falling_asleep_at_inappropriate_time': 77, 'family_history': 78, 'fast_heart_rate': 79, 'fatigue': 80, 'feel_full': 81, 'feel_like_eating': 82, 'feeling_elated': 83, 'feeling_irritable_or_mood_changes': 84, 'feeling_more_thirsty_than_usual': 85, 'feeling_unwell': 86, 'fever': 87, 'fever_low_increases_throughout_the_day': 88, 'fluid_accumulation_in_abdomen': 89, 'fluid_overload': 90, 'food_cravings': 91, 'foul_smell_of_urine': 92, 'foul_smelling_discharge_from_sore': 93, 'frequent_yawning': 94, 'getting_lot_of_infections': 95, 'goiter': 96, 'headache': 97, 'heartburn': 98, 'high_fever': 99, 'hip_joint_pain': 100, 'history_of_alcohol_consumption': 101, 'hoarseness': 102, 'increased_appetite': 103, 'increased_sensitivity_heat': 104, 'indigestion': 105, 'inflammatory_nails': 106, 'internal_itching': 107, 'irregular_heartbeat': 108, 'irregular_sleep_and_wake_cycle': 109, 'irregular_sugar_level': 110, 'irritability': 111, 'irritation': 112, 'irritation_in_anus': 113, 'itching': 114, 'itchy_skin': 115, 'joint_pain': 116, 'knee_pain': 117, 'lack_of_concentration': 118, 'larger_fluid_filled_blisters_on_trunk': 119, 'lethargy': 120, 'lightheadedness': 121, 'looking_pale': 122, 'loss_of_appetite': 123, 'loss_of_balance': 124, 'loss_of_consciousness': 125, 'loss_of_coordination': 126, 'loss_of_smell': 127, 'low_blood_pressure': 128, 'low_blood_sugar': 129, 'low_grade_fever': 130, 'lump_or_area_of_thickening_felt_under_skin': 131, 'malaise': 132, 'melancholy': 133, 'mild_fever': 134, 'mild_itchin': 135, 'mood_swings': 136, 'more_frequent_bowel_movements': 137, 'movement_stiffness': 138, 'mucoid_sputum': 139, 'muscle_aches': 140, 'muscle_pain': 141, 'muscle_wasting': 142, 'muscle_weakness': 143, 'nausea': 144, 'neck_pain': 145, 'nervousness': 146, 'night_sweats': 147, 'nightmares': 148, 'nodal_skin_eruptions': 149, 'numbness_or_tingling_in_hands_or_feet': 150, 'obesity': 151, 'oral_yeast_infection': 152, 'pain': 153, 'pain_behind_eyes': 154, 'pain_behind_the_eyes': 155, 'pain_during_bowel_movements': 156, 'pain_in_anal_region': 157, 'pain_in_lower_back _or_legs': 158, 'painful_fluid_or_pus_filled_sores': 159, 'painful_mouth_sores': 160, 'painful_walking': 161, 'pale_fingernails': 162, 'palpitations': 163, 'passage_of_gases': 164, 'patches_in_throat': 165, 'persistent_cough': 166, 'persistent_indigestion': 167, 'persistent_unexplained_fatigue': 168, 'persistent_unexplained_fevers_night_sweats': 169, 'persistent_unexplained_muscle_or_joint_pain': 170, 'persistent_white_spots_or_unusual_lesions_on_tongue': 171, 'phlegm': 172, 'pins_and_needles_sensations': 173, 'pneumonia': 174, 'polyuria': 175, 'pressure_fullness_in_cheeks_brow_or_forehead': 176, 'prominent_veins_on_calf': 177, 'puffy_face_and_eyes': 178, 'pus_filled_pimples': 179, 'rash': 180, 'receiving_blood_transfusion': 181, 'receiving_unsterile_injections': 182, 'recurring_fever': 183, 'red_sore_around_nose': 184, 'red_spots_over_body': 185, 'reddish_sores': 186, 'redness_of_eyes': 187, 'redness_palms_hands': 188, 'restlessness': 189, 'rheadache': 190, 'runny_nose': 191, 'rusty_sputum': 192, 'scurring': 193, 'seizures': 194, 'severe_itching': 195, 'severe_weakness': 196, 'shakiness': 197, 'shingles': 198, 'shivering': 199, 'silver_like_dusting': 200, 'sinus_pressure': 201, 'skin_changes': 202, 'skin_peeling': 203, 'skin_rash': 204, 'skin_rashes_bumps': 205, 'skin_without_hair': 206, 'sleep_problems': 207, 'slow_healing_sores': 208, 'slurred_speech': 209, 'small_dents_in_nails': 210, 'sore_muscles': 211, 'sore_neck': 212, 'sore_throat': 213, 'sores_around_nose_mouth': 214, 'sores_quickly_rupture': 215, \"sores_that_won't_heal\": 216, 'spinning_movements': 217, 'spotting__urination': 218, 'spread_of_sores_to_other_areas_through_touch': 219, 'stiff_neck': 220, 'stomach_bleeding': 221, 'stomach_pain': 222, 'stomach_upset': 223, 'stuffy_nose': 224, 'such_as_yellowing': 225, 'sudden_severe_pain_followed_by_numbness': 226, 'sunken_eyes': 227, 'sweating': 228, 'sweats': 229, 'swelled_lymph_nodes': 230, 'swelling': 231, 'swelling_at_base_of_neck': 232, 'swelling_joints': 233, 'swelling_of_stomach': 234, 'swollen_blood_vessels': 235, 'swollen_extremeties': 236, 'swollen_glands': 237, 'swollen_legs': 238, 'swollen_lymph_glands': 239, 'swollen_throat': 240, 'tachycardia': 241, 'tearing': 242, 'temperature_changes_regularly': 243, 'thick_black_phlegm': 244, 'thick_saliva': 245, 'thin_shiny_skin': 246, 'thinning_skin': 247, 'throat_irritation': 248, 'tingling_in_throat': 249, 'tingling_or_numbness_of_the_lips_tongue_or_cheek': 250, 'tiredness': 251, 'toxic_look_(typhos)': 252, 'tremor': 253, 'trouble_breathing': 254, 'trouble_falling_asleep_at_night': 255, 'trouble_sleeping': 256, 'trouble_swallowing': 257, 'ulcers_on_tongue': 258, 'unexplained_bleeding_bruising': 259, 'unsteadiness': 260, 'urinating_often': 261, 'urine stools or vomit': 262, 'urine_frequently_black_red': 263, 'vision_loss': 264, 'visual_disturbances': 265, 'visual_phenomena': 266, 'vomiting': 267, 'waking_up_during_night': 268, 'waking_up_too_early': 269, 'warm_moist_skin': 270, 'watering_from_eyes': 271, 'weakness': 272, 'weakness_in_limbs': 273, 'weakness_of_one_body_side': 274, 'weight_changes': 275, 'weight_gain': 276, 'weight_loss': 277, 'wheezing': 278, 'worsening_pain_if_bend_forward_or_lie_down': 279, 'yellow_crust_ooze': 280, 'yellow_urine': 281, 'yellowing_of_eyes': 282, 'yellowish_skin': 283, 'disease': 284}\n"
     ]
    }
   ],
   "source": [
    "# List of symptoms\n",
    "\n",
    "# Create the dictionary\n",
    "symptoms_dict = {symptom: idx for idx, symptom in enumerate(data.columns)}\n",
    "\n",
    "print(symptoms_dict)"
   ]
  },
  {
   "cell_type": "code",
   "execution_count": 10,
   "metadata": {},
   "outputs": [
    {
     "data": {
      "text/plain": [
       "63"
      ]
     },
     "execution_count": 10,
     "metadata": {},
     "output_type": "execute_result"
    }
   ],
   "source": [
    "len(data['disease'].unique())"
   ]
  },
  {
   "cell_type": "code",
   "execution_count": 11,
   "metadata": {},
   "outputs": [
    {
     "data": {
      "text/plain": [
       "array(['Cirrhosis', 'Bronchial Asthma', 'Malaria', 'Hepatitis C',\n",
       "       'Osteoarthristis', 'Insomnia', 'Alcoholic Hepatitis',\n",
       "       'Hypoglycemia', 'Hyperthyroidism', 'Hepatitis A', 'Dengue',\n",
       "       'Chronic Cholestasis', 'Arthritis', 'Peptic Ulcer Diseae',\n",
       "       'Tuberculosis', 'Drug Reaction', 'Impetigo', 'Migraine',\n",
       "       'Chicken Pox', 'Acne', 'Hepatitis D', 'Jaundice', 'Common Cold',\n",
       "       'Typhoid', 'Sinus Headaches',\n",
       "       '(Vertigo) Paroymsal  Positional Vertigo', 'Gerd', 'Hepatitis E',\n",
       "       'Hepatitis B', 'Dimorphic Hemmorhoids(Piles)', 'Pneumonia',\n",
       "       'Hypertension ', 'Psoriasis', 'Cervical Spondylosis', 'Diabetes ',\n",
       "       'Hypothyroidism', 'Gangrene', 'Varicose Veins', 'Kidney Stones',\n",
       "       'Migraine Headache', 'Sleep Disorders', 'Urinary Tract Infection',\n",
       "       'Typhoid Fever', 'Allergy', 'Occupational Asthma', 'Hypertension',\n",
       "       'Diabetes', 'Lichen Planus', 'Asthma', 'Cancer', 'Salmonella',\n",
       "       'Lymphoma', 'Hiv Aids', 'Gastroesophageal Reflux Disease',\n",
       "       'Hypercalcemia', 'Dengue Fever', 'Peripheral Nerve Injuries',\n",
       "       'Addisons Disease', 'Paralysis (Brain Hemorrhage)', 'Heart Attack',\n",
       "       'Gastroenteritis', 'Aids', 'Fungal Infection'], dtype=object)"
      ]
     },
     "execution_count": 11,
     "metadata": {},
     "output_type": "execute_result"
    }
   ],
   "source": [
    "data['disease'].unique()"
   ]
  },
  {
   "cell_type": "code",
   "execution_count": 11,
   "metadata": {},
   "outputs": [],
   "source": [
    "from sklearn.model_selection import train_test_split\n",
    "from sklearn.preprocessing import LabelEncoder"
   ]
  },
  {
   "cell_type": "code",
   "execution_count": 12,
   "metadata": {},
   "outputs": [
    {
     "data": {
      "text/plain": [
       "0                          Cirrhosis\n",
       "1                   Bronchial Asthma\n",
       "2                            Malaria\n",
       "3                        Hepatitis C\n",
       "4                    Osteoarthristis\n",
       "                    ...             \n",
       "4495                            Aids\n",
       "4496                Fungal Infection\n",
       "4497                Fungal Infection\n",
       "4498                    Heart Attack\n",
       "4499    Paralysis (Brain Hemorrhage)\n",
       "Name: disease, Length: 4500, dtype: object"
      ]
     },
     "execution_count": 12,
     "metadata": {},
     "output_type": "execute_result"
    }
   ],
   "source": [
    "X=data.drop(\"disease\",axis=1)\n",
    "y=data[\"disease\"]\n",
    "X\n",
    "y"
   ]
  },
  {
   "cell_type": "code",
   "execution_count": 13,
   "metadata": {},
   "outputs": [],
   "source": [
    "le = LabelEncoder()\n",
    "le.fit(y)\n",
    "Y=le.transform(y)"
   ]
  },
  {
   "cell_type": "code",
   "execution_count": 14,
   "metadata": {},
   "outputs": [],
   "source": [
    "X_train,X_test,y_train,y_test = train_test_split(X,Y,test_size=0.3, random_state=20)"
   ]
  },
  {
   "cell_type": "code",
   "execution_count": 15,
   "metadata": {},
   "outputs": [
    {
     "data": {
      "text/plain": [
       "((3150, 284), (1350, 284), (3150,), (1350,))"
      ]
     },
     "execution_count": 15,
     "metadata": {},
     "output_type": "execute_result"
    }
   ],
   "source": [
    "X_train.shape,X_test.shape,y_train.shape,y_test.shape"
   ]
  },
  {
   "cell_type": "code",
   "execution_count": 16,
   "metadata": {},
   "outputs": [
    {
     "data": {
      "text/plain": [
       "0                          Cirrhosis\n",
       "1                   Bronchial Asthma\n",
       "2                            Malaria\n",
       "3                        Hepatitis C\n",
       "4                    Osteoarthristis\n",
       "                    ...             \n",
       "4495                            Aids\n",
       "4496                Fungal Infection\n",
       "4497                Fungal Infection\n",
       "4498                    Heart Attack\n",
       "4499    Paralysis (Brain Hemorrhage)\n",
       "Name: disease, Length: 4500, dtype: object"
      ]
     },
     "execution_count": 16,
     "metadata": {},
     "output_type": "execute_result"
    }
   ],
   "source": [
    "y"
   ]
  },
  {
   "cell_type": "code",
   "execution_count": 17,
   "metadata": {},
   "outputs": [
    {
     "data": {
      "text/plain": [
       "array([13,  8, 45, ..., 21, 26, 50])"
      ]
     },
     "execution_count": 17,
     "metadata": {},
     "output_type": "execute_result"
    }
   ],
   "source": [
    "Y"
   ]
  },
  {
   "cell_type": "code",
   "execution_count": 18,
   "metadata": {},
   "outputs": [
    {
     "name": "stdout",
     "output_type": "stream",
     "text": [
      "SVC accuracy: 0.9948148148148148\n",
      "SVC Confusion Matrix:\n",
      "[[35,  0,  0, ...,  0,  0,  0],\n",
      " [ 0, 35,  0, ...,  0,  0,  0],\n",
      " [ 0,  0,  0, ...,  0,  0,  0],\n",
      " ...,\n",
      " [ 0,  0,  0, ...,  4,  0,  0],\n",
      " [ 0,  0,  0, ...,  0, 28,  0],\n",
      " [ 0,  0,  0, ...,  0,  0, 30]]\n",
      "RandomForest accuracy: 0.9948148148148148\n",
      "RandomForest Confusion Matrix:\n",
      "[[35,  0,  0, ...,  0,  0,  0],\n",
      " [ 0, 35,  0, ...,  0,  0,  0],\n",
      " [ 0,  0,  0, ...,  0,  0,  0],\n",
      " ...,\n",
      " [ 0,  0,  0, ...,  4,  0,  0],\n",
      " [ 0,  0,  0, ...,  0, 28,  0],\n",
      " [ 0,  0,  0, ...,  0,  0, 30]]\n"
     ]
    }
   ],
   "source": [
    "from sklearn.datasets import make_classification\n",
    "from sklearn.svm import SVC\n",
    "from sklearn.ensemble import RandomForestClassifier, GradientBoostingClassifier\n",
    "from sklearn.neighbors import KNeighborsClassifier\n",
    "from sklearn.naive_bayes import MultinomialNB\n",
    "\n",
    "from sklearn.metrics import accuracy_score, confusion_matrix\n",
    "\n",
    "# Create a dictionary to store models\n",
    "models = {\n",
    "    \"SVC\": SVC(kernel='linear'),\n",
    "    \"RandomForest\": RandomForestClassifier(n_estimators=100, random_state=63),\n",
    "    #\"GradientBoosting\": GradientBoostingClassifier(n_estimators=100, random_state=63),\n",
    "    #\"KNeighbors\": KNeighborsClassifier(n_neighbors=5),\n",
    "   # \"MultinomialNB\": MultinomialNB()\n",
    "}\n",
    "\n",
    "for model_name, model in models.items():\n",
    "    # Train model\n",
    "    model.fit(X_train, y_train)\n",
    "    \n",
    "    # Test model\n",
    "    predictions = model.predict(X_test)\n",
    "    \n",
    "    # Calculate accuracy\n",
    "    accuracy = accuracy_score(y_test, predictions)\n",
    "    \n",
    "    # Calculate confusion matrix\n",
    "    cm = confusion_matrix(y_test, predictions)\n",
    "    \n",
    "    print(f\"{model_name} accuracy: {accuracy}\")\n",
    "    print(f\"{model_name} Confusion Matrix:\")\n",
    "    print(np.array2string(cm, separator=', '))"
   ]
  },
  {
   "cell_type": "code",
   "execution_count": 19,
   "metadata": {},
   "outputs": [
    {
     "data": {
      "text/plain": [
       "0.9948148148148148"
      ]
     },
     "execution_count": 19,
     "metadata": {},
     "output_type": "execute_result"
    }
   ],
   "source": [
    "svc =SVC(kernel='linear')\n",
    "svc.fit(X_train,y_train)\n",
    "ypred =svc.predict(X_test)\n",
    "accuracy_score(y_test,ypred)"
   ]
  },
  {
   "cell_type": "code",
   "execution_count": 20,
   "metadata": {},
   "outputs": [],
   "source": [
    "import pickle\n",
    "pickle.dump(svc,open(\"models/svc.pkl\",'wb'))"
   ]
  },
  {
   "cell_type": "code",
   "execution_count": 21,
   "metadata": {},
   "outputs": [],
   "source": [
    "#load model\n",
    "svc = pickle.load(open(\"models/svc.pkl\",'rb'))"
   ]
  },
  {
   "cell_type": "code",
   "execution_count": 22,
   "metadata": {},
   "outputs": [
    {
     "data": {
      "text/html": [
       "<div>\n",
       "<style scoped>\n",
       "    .dataframe tbody tr th:only-of-type {\n",
       "        vertical-align: middle;\n",
       "    }\n",
       "\n",
       "    .dataframe tbody tr th {\n",
       "        vertical-align: top;\n",
       "    }\n",
       "\n",
       "    .dataframe thead th {\n",
       "        text-align: right;\n",
       "    }\n",
       "</style>\n",
       "<table border=\"1\" class=\"dataframe\">\n",
       "  <thead>\n",
       "    <tr style=\"text-align: right;\">\n",
       "      <th></th>\n",
       "      <th>abdominal_pain</th>\n",
       "      <th>abnormal_menstruation</th>\n",
       "      <th>achy_feeling_in_upper_teeth</th>\n",
       "      <th>acidity</th>\n",
       "      <th>acute_liver_failure</th>\n",
       "      <th>altered_sensorium</th>\n",
       "      <th>anxiety</th>\n",
       "      <th>areas_of_darkened_skin</th>\n",
       "      <th>arrhythmia</th>\n",
       "      <th>back_pain</th>\n",
       "      <th>...</th>\n",
       "      <th>weakness_of_one_body_side</th>\n",
       "      <th>weight_changes</th>\n",
       "      <th>weight_gain</th>\n",
       "      <th>weight_loss</th>\n",
       "      <th>wheezing</th>\n",
       "      <th>worsening_pain_if_bend_forward_or_lie_down</th>\n",
       "      <th>yellow_crust_ooze</th>\n",
       "      <th>yellow_urine</th>\n",
       "      <th>yellowing_of_eyes</th>\n",
       "      <th>yellowish_skin</th>\n",
       "    </tr>\n",
       "  </thead>\n",
       "  <tbody>\n",
       "    <tr>\n",
       "      <th>2240</th>\n",
       "      <td>0</td>\n",
       "      <td>0</td>\n",
       "      <td>0</td>\n",
       "      <td>0</td>\n",
       "      <td>0</td>\n",
       "      <td>0</td>\n",
       "      <td>0</td>\n",
       "      <td>0</td>\n",
       "      <td>0</td>\n",
       "      <td>0</td>\n",
       "      <td>...</td>\n",
       "      <td>0</td>\n",
       "      <td>0</td>\n",
       "      <td>0</td>\n",
       "      <td>0</td>\n",
       "      <td>0</td>\n",
       "      <td>0</td>\n",
       "      <td>0</td>\n",
       "      <td>0</td>\n",
       "      <td>0</td>\n",
       "      <td>0</td>\n",
       "    </tr>\n",
       "    <tr>\n",
       "      <th>779</th>\n",
       "      <td>0</td>\n",
       "      <td>0</td>\n",
       "      <td>0</td>\n",
       "      <td>0</td>\n",
       "      <td>0</td>\n",
       "      <td>0</td>\n",
       "      <td>0</td>\n",
       "      <td>0</td>\n",
       "      <td>0</td>\n",
       "      <td>0</td>\n",
       "      <td>...</td>\n",
       "      <td>0</td>\n",
       "      <td>0</td>\n",
       "      <td>0</td>\n",
       "      <td>1</td>\n",
       "      <td>0</td>\n",
       "      <td>0</td>\n",
       "      <td>0</td>\n",
       "      <td>0</td>\n",
       "      <td>1</td>\n",
       "      <td>0</td>\n",
       "    </tr>\n",
       "    <tr>\n",
       "      <th>723</th>\n",
       "      <td>0</td>\n",
       "      <td>0</td>\n",
       "      <td>0</td>\n",
       "      <td>0</td>\n",
       "      <td>0</td>\n",
       "      <td>0</td>\n",
       "      <td>0</td>\n",
       "      <td>0</td>\n",
       "      <td>0</td>\n",
       "      <td>0</td>\n",
       "      <td>...</td>\n",
       "      <td>0</td>\n",
       "      <td>0</td>\n",
       "      <td>0</td>\n",
       "      <td>0</td>\n",
       "      <td>0</td>\n",
       "      <td>0</td>\n",
       "      <td>0</td>\n",
       "      <td>0</td>\n",
       "      <td>0</td>\n",
       "      <td>0</td>\n",
       "    </tr>\n",
       "    <tr>\n",
       "      <th>685</th>\n",
       "      <td>0</td>\n",
       "      <td>0</td>\n",
       "      <td>0</td>\n",
       "      <td>0</td>\n",
       "      <td>0</td>\n",
       "      <td>0</td>\n",
       "      <td>0</td>\n",
       "      <td>0</td>\n",
       "      <td>0</td>\n",
       "      <td>0</td>\n",
       "      <td>...</td>\n",
       "      <td>0</td>\n",
       "      <td>0</td>\n",
       "      <td>0</td>\n",
       "      <td>0</td>\n",
       "      <td>0</td>\n",
       "      <td>0</td>\n",
       "      <td>0</td>\n",
       "      <td>0</td>\n",
       "      <td>0</td>\n",
       "      <td>0</td>\n",
       "    </tr>\n",
       "    <tr>\n",
       "      <th>1361</th>\n",
       "      <td>0</td>\n",
       "      <td>0</td>\n",
       "      <td>0</td>\n",
       "      <td>0</td>\n",
       "      <td>0</td>\n",
       "      <td>0</td>\n",
       "      <td>0</td>\n",
       "      <td>0</td>\n",
       "      <td>0</td>\n",
       "      <td>0</td>\n",
       "      <td>...</td>\n",
       "      <td>0</td>\n",
       "      <td>0</td>\n",
       "      <td>0</td>\n",
       "      <td>0</td>\n",
       "      <td>0</td>\n",
       "      <td>0</td>\n",
       "      <td>0</td>\n",
       "      <td>0</td>\n",
       "      <td>0</td>\n",
       "      <td>0</td>\n",
       "    </tr>\n",
       "    <tr>\n",
       "      <th>...</th>\n",
       "      <td>...</td>\n",
       "      <td>...</td>\n",
       "      <td>...</td>\n",
       "      <td>...</td>\n",
       "      <td>...</td>\n",
       "      <td>...</td>\n",
       "      <td>...</td>\n",
       "      <td>...</td>\n",
       "      <td>...</td>\n",
       "      <td>...</td>\n",
       "      <td>...</td>\n",
       "      <td>...</td>\n",
       "      <td>...</td>\n",
       "      <td>...</td>\n",
       "      <td>...</td>\n",
       "      <td>...</td>\n",
       "      <td>...</td>\n",
       "      <td>...</td>\n",
       "      <td>...</td>\n",
       "      <td>...</td>\n",
       "      <td>...</td>\n",
       "    </tr>\n",
       "    <tr>\n",
       "      <th>357</th>\n",
       "      <td>0</td>\n",
       "      <td>1</td>\n",
       "      <td>0</td>\n",
       "      <td>0</td>\n",
       "      <td>0</td>\n",
       "      <td>0</td>\n",
       "      <td>0</td>\n",
       "      <td>0</td>\n",
       "      <td>0</td>\n",
       "      <td>0</td>\n",
       "      <td>...</td>\n",
       "      <td>0</td>\n",
       "      <td>0</td>\n",
       "      <td>1</td>\n",
       "      <td>0</td>\n",
       "      <td>0</td>\n",
       "      <td>0</td>\n",
       "      <td>0</td>\n",
       "      <td>0</td>\n",
       "      <td>0</td>\n",
       "      <td>0</td>\n",
       "    </tr>\n",
       "    <tr>\n",
       "      <th>701</th>\n",
       "      <td>0</td>\n",
       "      <td>0</td>\n",
       "      <td>0</td>\n",
       "      <td>0</td>\n",
       "      <td>0</td>\n",
       "      <td>0</td>\n",
       "      <td>0</td>\n",
       "      <td>0</td>\n",
       "      <td>0</td>\n",
       "      <td>0</td>\n",
       "      <td>...</td>\n",
       "      <td>0</td>\n",
       "      <td>0</td>\n",
       "      <td>0</td>\n",
       "      <td>1</td>\n",
       "      <td>0</td>\n",
       "      <td>0</td>\n",
       "      <td>0</td>\n",
       "      <td>0</td>\n",
       "      <td>0</td>\n",
       "      <td>0</td>\n",
       "    </tr>\n",
       "    <tr>\n",
       "      <th>2314</th>\n",
       "      <td>0</td>\n",
       "      <td>0</td>\n",
       "      <td>0</td>\n",
       "      <td>0</td>\n",
       "      <td>0</td>\n",
       "      <td>0</td>\n",
       "      <td>0</td>\n",
       "      <td>0</td>\n",
       "      <td>0</td>\n",
       "      <td>0</td>\n",
       "      <td>...</td>\n",
       "      <td>0</td>\n",
       "      <td>0</td>\n",
       "      <td>0</td>\n",
       "      <td>0</td>\n",
       "      <td>0</td>\n",
       "      <td>0</td>\n",
       "      <td>0</td>\n",
       "      <td>0</td>\n",
       "      <td>0</td>\n",
       "      <td>0</td>\n",
       "    </tr>\n",
       "    <tr>\n",
       "      <th>4146</th>\n",
       "      <td>0</td>\n",
       "      <td>0</td>\n",
       "      <td>0</td>\n",
       "      <td>0</td>\n",
       "      <td>0</td>\n",
       "      <td>0</td>\n",
       "      <td>0</td>\n",
       "      <td>0</td>\n",
       "      <td>0</td>\n",
       "      <td>0</td>\n",
       "      <td>...</td>\n",
       "      <td>0</td>\n",
       "      <td>0</td>\n",
       "      <td>0</td>\n",
       "      <td>0</td>\n",
       "      <td>0</td>\n",
       "      <td>0</td>\n",
       "      <td>0</td>\n",
       "      <td>0</td>\n",
       "      <td>0</td>\n",
       "      <td>0</td>\n",
       "    </tr>\n",
       "    <tr>\n",
       "      <th>390</th>\n",
       "      <td>0</td>\n",
       "      <td>0</td>\n",
       "      <td>0</td>\n",
       "      <td>0</td>\n",
       "      <td>0</td>\n",
       "      <td>0</td>\n",
       "      <td>0</td>\n",
       "      <td>0</td>\n",
       "      <td>0</td>\n",
       "      <td>0</td>\n",
       "      <td>...</td>\n",
       "      <td>0</td>\n",
       "      <td>0</td>\n",
       "      <td>0</td>\n",
       "      <td>0</td>\n",
       "      <td>0</td>\n",
       "      <td>0</td>\n",
       "      <td>0</td>\n",
       "      <td>0</td>\n",
       "      <td>0</td>\n",
       "      <td>0</td>\n",
       "    </tr>\n",
       "  </tbody>\n",
       "</table>\n",
       "<p>1350 rows × 284 columns</p>\n",
       "</div>"
      ],
      "text/plain": [
       "      abdominal_pain  abnormal_menstruation  achy_feeling_in_upper_teeth  \\\n",
       "2240               0                      0                            0   \n",
       "779                0                      0                            0   \n",
       "723                0                      0                            0   \n",
       "685                0                      0                            0   \n",
       "1361               0                      0                            0   \n",
       "...              ...                    ...                          ...   \n",
       "357                0                      1                            0   \n",
       "701                0                      0                            0   \n",
       "2314               0                      0                            0   \n",
       "4146               0                      0                            0   \n",
       "390                0                      0                            0   \n",
       "\n",
       "      acidity  acute_liver_failure  altered_sensorium  anxiety  \\\n",
       "2240        0                    0                  0        0   \n",
       "779         0                    0                  0        0   \n",
       "723         0                    0                  0        0   \n",
       "685         0                    0                  0        0   \n",
       "1361        0                    0                  0        0   \n",
       "...       ...                  ...                ...      ...   \n",
       "357         0                    0                  0        0   \n",
       "701         0                    0                  0        0   \n",
       "2314        0                    0                  0        0   \n",
       "4146        0                    0                  0        0   \n",
       "390         0                    0                  0        0   \n",
       "\n",
       "      areas_of_darkened_skin  arrhythmia  back_pain  ...  \\\n",
       "2240                       0           0          0  ...   \n",
       "779                        0           0          0  ...   \n",
       "723                        0           0          0  ...   \n",
       "685                        0           0          0  ...   \n",
       "1361                       0           0          0  ...   \n",
       "...                      ...         ...        ...  ...   \n",
       "357                        0           0          0  ...   \n",
       "701                        0           0          0  ...   \n",
       "2314                       0           0          0  ...   \n",
       "4146                       0           0          0  ...   \n",
       "390                        0           0          0  ...   \n",
       "\n",
       "      weakness_of_one_body_side  weight_changes  weight_gain  weight_loss  \\\n",
       "2240                          0               0            0            0   \n",
       "779                           0               0            0            1   \n",
       "723                           0               0            0            0   \n",
       "685                           0               0            0            0   \n",
       "1361                          0               0            0            0   \n",
       "...                         ...             ...          ...          ...   \n",
       "357                           0               0            1            0   \n",
       "701                           0               0            0            1   \n",
       "2314                          0               0            0            0   \n",
       "4146                          0               0            0            0   \n",
       "390                           0               0            0            0   \n",
       "\n",
       "      wheezing  worsening_pain_if_bend_forward_or_lie_down  yellow_crust_ooze  \\\n",
       "2240         0                                           0                  0   \n",
       "779          0                                           0                  0   \n",
       "723          0                                           0                  0   \n",
       "685          0                                           0                  0   \n",
       "1361         0                                           0                  0   \n",
       "...        ...                                         ...                ...   \n",
       "357          0                                           0                  0   \n",
       "701          0                                           0                  0   \n",
       "2314         0                                           0                  0   \n",
       "4146         0                                           0                  0   \n",
       "390          0                                           0                  0   \n",
       "\n",
       "      yellow_urine  yellowing_of_eyes  yellowish_skin  \n",
       "2240             0                  0               0  \n",
       "779              0                  1               0  \n",
       "723              0                  0               0  \n",
       "685              0                  0               0  \n",
       "1361             0                  0               0  \n",
       "...            ...                ...             ...  \n",
       "357              0                  0               0  \n",
       "701              0                  0               0  \n",
       "2314             0                  0               0  \n",
       "4146             0                  0               0  \n",
       "390              0                  0               0  \n",
       "\n",
       "[1350 rows x 284 columns]"
      ]
     },
     "execution_count": 22,
     "metadata": {},
     "output_type": "execute_result"
    }
   ],
   "source": [
    "X_test"
   ]
  },
  {
   "cell_type": "code",
   "execution_count": 23,
   "metadata": {},
   "outputs": [
    {
     "name": "stdout",
     "output_type": "stream",
     "text": [
      "Predicted disease: [46]\n",
      "Actual Disease: 46\n"
     ]
    },
    {
     "name": "stderr",
     "output_type": "stream",
     "text": [
      "c:\\Program Files\\Python312\\Lib\\site-packages\\sklearn\\base.py:493: UserWarning: X does not have valid feature names, but SVC was fitted with feature names\n",
      "  warnings.warn(\n"
     ]
    }
   ],
   "source": [
    "# Assume svc is trained testing\n",
    "import numpy as np\n",
    "print(\"Predicted disease:\", svc.predict(X_test.iloc[85].values.reshape(1, -1)))\n",
    "print(\"Actual Disease:\", y_test[85])"
   ]
  },
  {
   "cell_type": "code",
   "execution_count": 24,
   "metadata": {},
   "outputs": [
    {
     "name": "stdout",
     "output_type": "stream",
     "text": [
      "predicted disease : [32]\n",
      "Actual Disease : 32\n"
     ]
    },
    {
     "name": "stderr",
     "output_type": "stream",
     "text": [
      "c:\\Program Files\\Python312\\Lib\\site-packages\\sklearn\\base.py:493: UserWarning: X does not have valid feature names, but SVC was fitted with feature names\n",
      "  warnings.warn(\n"
     ]
    }
   ],
   "source": [
    "# test 2:\n",
    "print(\"predicted disease :\",svc.predict(X_test.iloc[100].values.reshape(1,-1)))\n",
    "print(\"Actual Disease :\", y_test[100])"
   ]
  },
  {
   "cell_type": "code",
   "execution_count": 25,
   "metadata": {},
   "outputs": [
    {
     "name": "stdout",
     "output_type": "stream",
     "text": [
      "{'(Vertigo) Paroymsal  Positional Vertigo': 0, 'Acne': 1, 'Addisons Disease': 2, 'Aids': 3, 'Alcoholic Hepatitis': 4, 'Allergy': 5, 'Arthritis': 6, 'Asthma': 7, 'Bronchial Asthma': 8, 'Cancer': 9, 'Cervical Spondylosis': 10, 'Chicken Pox': 11, 'Chronic Cholestasis': 12, 'Cirrhosis': 13, 'Common Cold': 14, 'Dengue': 15, 'Dengue Fever': 16, 'Diabetes': 17, 'Diabetes ': 18, 'Dimorphic Hemmorhoids(Piles)': 19, 'Drug Reaction': 20, 'Fungal Infection': 21, 'Gangrene': 22, 'Gastroenteritis': 23, 'Gastroesophageal Reflux Disease': 24, 'Gerd': 25, 'Heart Attack': 26, 'Hepatitis A': 27, 'Hepatitis B': 28, 'Hepatitis C': 29, 'Hepatitis D': 30, 'Hepatitis E': 31, 'Hiv Aids': 32, 'Hypercalcemia': 33, 'Hypertension': 34, 'Hypertension ': 35, 'Hyperthyroidism': 36, 'Hypoglycemia': 37, 'Hypothyroidism': 38, 'Impetigo': 39, 'Insomnia': 40, 'Jaundice': 41, 'Kidney Stones': 42, 'Lichen Planus': 43, 'Lymphoma': 44, 'Malaria': 45, 'Migraine': 46, 'Migraine Headache': 47, 'Occupational Asthma': 48, 'Osteoarthristis': 49, 'Paralysis (Brain Hemorrhage)': 50, 'Peptic Ulcer Diseae': 51, 'Peripheral Nerve Injuries': 52, 'Pneumonia': 53, 'Psoriasis': 54, 'Salmonella': 55, 'Sinus Headaches': 56, 'Sleep Disorders': 57, 'Tuberculosis': 58, 'Typhoid': 59, 'Typhoid Fever': 60, 'Urinary Tract Infection': 61, 'Varicose Veins': 62}\n"
     ]
    }
   ],
   "source": [
    "import pandas as pd\n",
    "from sklearn.preprocessing import LabelEncoder\n",
    "\n",
    "# Sample data\n",
    "data1 = {\n",
    "    'disease': ['flu', 'bronchitis', 'pneumonia', 'heart attack', 'stroke', 'cancer']\n",
    "}\n",
    "df2 = pd.DataFrame(data['disease'])\n",
    "\n",
    "# Initialize the LabelEncoder\n",
    "le = LabelEncoder()\n",
    "\n",
    "# Fit the LabelEncoder to the disease column\n",
    "df2['disease_encoded'] = le.fit_transform(data['disease'])\n",
    "\n",
    "# Retrieve the mapping of original values to encoded values\n",
    "mapping = dict(zip(le.classes_, le.transform(le.classes_)))\n",
    "diseases_list=mapping\n",
    "# Print the encoded DataFrame and the mapping\n",
    "\n",
    "print(diseases_list)\n"
   ]
  },
  {
   "cell_type": "code",
   "execution_count": 26,
   "metadata": {},
   "outputs": [
    {
     "name": "stdout",
     "output_type": "stream",
     "text": [
      "{0: '(Vertigo) Paroymsal  Positional Vertigo', 1: 'Acne', 2: 'Addisons Disease', 3: 'Aids', 4: 'Alcoholic Hepatitis', 5: 'Allergy', 6: 'Arthritis', 7: 'Asthma', 8: 'Bronchial Asthma', 9: 'Cancer', 10: 'Cervical Spondylosis', 11: 'Chicken Pox', 12: 'Chronic Cholestasis', 13: 'Cirrhosis', 14: 'Common Cold', 15: 'Dengue', 16: 'Dengue Fever', 17: 'Diabetes', 18: 'Diabetes ', 19: 'Dimorphic Hemmorhoids(Piles)', 20: 'Drug Reaction', 21: 'Fungal Infection', 22: 'Gangrene', 23: 'Gastroenteritis', 24: 'Gastroesophageal Reflux Disease', 25: 'Gerd', 26: 'Heart Attack', 27: 'Hepatitis A', 28: 'Hepatitis B', 29: 'Hepatitis C', 30: 'Hepatitis D', 31: 'Hepatitis E', 32: 'Hiv Aids', 33: 'Hypercalcemia', 34: 'Hypertension', 35: 'Hypertension ', 36: 'Hyperthyroidism', 37: 'Hypoglycemia', 38: 'Hypothyroidism', 39: 'Impetigo', 40: 'Insomnia', 41: 'Jaundice', 42: 'Kidney Stones', 43: 'Lichen Planus', 44: 'Lymphoma', 45: 'Malaria', 46: 'Migraine', 47: 'Migraine Headache', 48: 'Occupational Asthma', 49: 'Osteoarthristis', 50: 'Paralysis (Brain Hemorrhage)', 51: 'Peptic Ulcer Diseae', 52: 'Peripheral Nerve Injuries', 53: 'Pneumonia', 54: 'Psoriasis', 55: 'Salmonella', 56: 'Sinus Headaches', 57: 'Sleep Disorders', 58: 'Tuberculosis', 59: 'Typhoid', 60: 'Typhoid Fever', 61: 'Urinary Tract Infection', 62: 'Varicose Veins'}\n"
     ]
    }
   ],
   "source": [
    "# Convert the original dictionary\n",
    "original_dict={'(Vertigo) Paroymsal  Positional Vertigo': 0, 'Acne': 1, 'Addisons Disease': 2, 'Aids': 3, 'Alcoholic Hepatitis': 4, 'Allergy': 5, 'Arthritis': 6, 'Asthma': 7, 'Bronchial Asthma': 8, 'Cancer': 9, 'Cervical Spondylosis': 10, 'Chicken Pox': 11, 'Chronic Cholestasis': 12, 'Cirrhosis': 13, 'Common Cold': 14, 'Dengue': 15, 'Dengue Fever': 16, 'Diabetes': 17, 'Diabetes ': 18, 'Dimorphic Hemmorhoids(Piles)': 19, 'Drug Reaction': 20, 'Fungal Infection': 21, 'Gangrene': 22, 'Gastroenteritis': 23, 'Gastroesophageal Reflux Disease': 24, 'Gerd': 25, 'Heart Attack': 26, 'Hepatitis A': 27, 'Hepatitis B': 28, 'Hepatitis C': 29, 'Hepatitis D': 30, 'Hepatitis E': 31, 'Hiv Aids': 32, 'Hypercalcemia': 33, 'Hypertension': 34, 'Hypertension ': 35, 'Hyperthyroidism': 36, 'Hypoglycemia': 37, 'Hypothyroidism': 38, 'Impetigo': 39, 'Insomnia': 40, 'Jaundice': 41, 'Kidney Stones': 42, 'Lichen Planus': 43, 'Lymphoma': 44, 'Malaria': 45, 'Migraine': 46, 'Migraine Headache': 47, 'Occupational Asthma': 48, 'Osteoarthristis': 49, 'Paralysis (Brain Hemorrhage)': 50, 'Peptic Ulcer Diseae': 51, 'Peripheral Nerve Injuries': 52, 'Pneumonia': 53, 'Psoriasis': 54, 'Salmonella': 55, 'Sinus Headaches': 56, 'Sleep Disorders': 57, 'Tuberculosis': 58, 'Typhoid': 59, 'Typhoid Fever': 60, 'Urinary Tract Infection': 61, 'Varicose Veins': 62}\n",
    "converted_dict = {v: k for k, v in original_dict.items()}\n",
    "\n",
    "# Print the converted dictionary\n",
    "print(converted_dict)"
   ]
  },
  {
   "cell_type": "code",
   "execution_count": 27,
   "metadata": {},
   "outputs": [],
   "source": [
    "#============================================================\n",
    "\n",
    "symptoms_dict={'abdominal_pain': 0, 'abnormal_menstruation': 1, 'achy_feeling_in_upper_teeth': 2, 'acidity': 3, 'acute_liver_failure': 4, 'altered_sensorium': 5, 'anxiety': 6, 'areas_of_darkened_skin': 7, 'arrhythmia': 8, 'back_pain': 9, 'belly_pain': 10, 'blackheads': 11, 'bladder_discomfort': 12, 'bleeding_gum_or_nose': 13, 'blister': 14, 'blisters': 15, 'blood_in _sputum': 16, 'blood_in_sputum': 17, 'bloody_stool': 18, 'blurred_and_distorted_vision': 19, 'blurry_vision': 20, 'bone_pain': 21, 'breathing_in_unusual_pattern': 22, 'breathlessness': 23, 'brittle_nails': 24, 'bruising': 25, 'burning_micturition': 26, 'cardiac_arrhythmia': 27, 'changes_in_bowel_or_bladder_habits': 28, 'changes_in_bowel_patterns': 29, 'changes_in_menstrual_cycles': 30, 'changes_in_skin_color': 31, 'changes_to_existing_moles': 32, 'chest_pain': 33, 'chest_tightness': 34, 'chills': 35, 'chronic_diarrhea': 36, 'cold_hands_and_feets': 37, 'coma': 38, 'confused': 39, 'confusion': 40, 'congestion': 41, 'constipation': 42, 'continuous_feel_of_urine': 43, 'continuous_sneezing': 44, 'cough': 45, 'coughing': 46, 'coughing_wheezing_attacks_that_worsened_respiratory_virus_such_cold_flu': 47, 'cramps': 48, 'dark_urine': 49, 'darkening_or_redness_skin': 50, 'daytime_tiredness_sleepiness': 51, 'dehydration': 52, 'depression': 53, 'diarrhea': 54, 'diarrhoea': 55, 'difficulty_concentrating': 56, 'difficulty_falling_asleep_at_night': 57, 'difficulty_focusing': 58, 'difficulty_paying_attention_focusing_on_tasks': 59, 'difficulty_swallowing': 60, 'dischromic__patches': 61, 'discomfort_after_eating': 62, 'distention_of_abdomen': 63, 'dizziness': 64, 'drowsiness_slurred_speech': 65, 'dry_cough': 66, 'dry_red_scaly_patches_on_skin': 67, 'drying_and_tingling_lips': 68, 'enlarged_thyroid': 69, 'enlarged_thyroid_gland': 70, 'excessive_hunger': 71, 'excessive_thirst': 72, 'extra_marital_contacts': 73, 'eye_irritation': 74, 'eyesight_problems': 75, 'fainting': 76, 'falling_asleep_at_inappropriate_time': 77, 'family_history': 78, 'fast_heart_rate': 79, 'fatigue': 80, 'feel_full': 81, 'feel_like_eating': 82, 'feeling_elated': 83, 'feeling_irritable_or_mood_changes': 84, 'feeling_more_thirsty_than_usual': 85, 'feeling_unwell': 86, 'fever': 87, 'fever_low_increases_throughout_the_day': 88, 'fluid_accumulation_in_abdomen': 89, 'fluid_overload': 90, 'food_cravings': 91, 'foul_smell_of_urine': 92, 'foul_smelling_discharge_from_sore': 93, 'frequent_yawning': 94, 'getting_lot_of_infections': 95, 'goiter': 96, 'headache': 97, 'heartburn': 98, 'high_fever': 99, 'hip_joint_pain': 100, 'history_of_alcohol_consumption': 101, 'hoarseness': 102, 'increased_appetite': 103, 'increased_sensitivity_heat': 104, 'indigestion': 105, 'inflammatory_nails': 106, 'internal_itching': 107, 'irregular_heartbeat': 108, 'irregular_sleep_and_wake_cycle': 109, 'irregular_sugar_level': 110, 'irritability': 111, 'irritation': 112, 'irritation_in_anus': 113, 'itching': 114, 'itchy_skin': 115, 'joint_pain': 116, 'knee_pain': 117, 'lack_of_concentration': 118, 'larger_fluid_filled_blisters_on_trunk': 119, 'lethargy': 120, 'lightheadedness': 121, 'looking_pale': 122, 'loss_of_appetite': 123, 'loss_of_balance': 124, 'loss_of_consciousness': 125, 'loss_of_coordination': 126, 'loss_of_smell': 127, 'low_blood_pressure': 128, 'low_blood_sugar': 129, 'low_grade_fever': 130, 'lump_or_area_of_thickening_felt_under_skin': 131, 'malaise': 132, 'melancholy': 133, 'mild_fever': 134, 'mild_itchin': 135, 'mood_swings': 136, 'more_frequent_bowel_movements': 137, 'movement_stiffness': 138, 'mucoid_sputum': 139, 'muscle_aches': 140, 'muscle_pain': 141, 'muscle_wasting': 142, 'muscle_weakness': 143, 'nausea': 144, 'neck_pain': 145, 'nervousness': 146, 'night_sweats': 147, 'nightmares': 148, 'nodal_skin_eruptions': 149, 'numbness_or_tingling_in_hands_or_feet': 150, 'obesity': 151, 'oral_yeast_infection': 152, 'pain': 153, 'pain_behind_eyes': 154, 'pain_behind_the_eyes': 155, 'pain_during_bowel_movements': 156, 'pain_in_anal_region': 157, 'pain_in_lower_back _or_legs': 158, 'painful_fluid_or_pus_filled_sores': 159, 'painful_mouth_sores': 160, 'painful_walking': 161, 'pale_fingernails': 162, 'palpitations': 163, 'passage_of_gases': 164, 'patches_in_throat': 165, 'persistent_cough': 166, 'persistent_indigestion': 167, 'persistent_unexplained_fatigue': 168, 'persistent_unexplained_fevers_night_sweats': 169, 'persistent_unexplained_muscle_or_joint_pain': 170, 'persistent_white_spots_or_unusual_lesions_on_tongue': 171, 'phlegm': 172, 'pins_and_needles_sensations': 173, 'pneumonia': 174, 'polyuria': 175, 'pressure_fullness_in_cheeks_brow_or_forehead': 176, 'prominent_veins_on_calf': 177, 'puffy_face_and_eyes': 178, 'pus_filled_pimples': 179, 'rash': 180, 'receiving_blood_transfusion': 181, 'receiving_unsterile_injections': 182, 'recurring_fever': 183, 'red_sore_around_nose': 184, 'red_spots_over_body': 185, 'reddish_sores': 186, 'redness_of_eyes': 187, 'redness_palms_hands': 188, 'restlessness': 189, 'rheadache': 190, 'runny_nose': 191, 'rusty_sputum': 192, 'scurring': 193, 'seizures': 194, 'severe_itching': 195, 'severe_weakness': 196, 'shakiness': 197, 'shingles': 198, 'shivering': 199, 'silver_like_dusting': 200, 'sinus_pressure': 201, 'skin_changes': 202, 'skin_peeling': 203, 'skin_rash': 204, 'skin_rashes_bumps': 205, 'skin_without_hair': 206, 'sleep_problems': 207, 'slow_healing_sores': 208, 'slurred_speech': 209, 'small_dents_in_nails': 210, 'sore_muscles': 211, 'sore_neck': 212, 'sore_throat': 213, 'sores_around_nose_mouth': 214, 'sores_quickly_rupture': 215, \"sores_that_won't_heal\": 216, 'spinning_movements': 217, 'spotting__urination': 218, 'spread_of_sores_to_other_areas_through_touch': 219, 'stiff_neck': 220, 'stomach_bleeding': 221, 'stomach_pain': 222, 'stomach_upset': 223, 'stuffy_nose': 224, 'such_as_yellowing': 225, 'sudden_severe_pain_followed_by_numbness': 226, 'sunken_eyes': 227, 'sweating': 228, 'sweats': 229, 'swelled_lymph_nodes': 230, 'swelling': 231, 'swelling_at_base_of_neck': 232, 'swelling_joints': 233, 'swelling_of_stomach': 234, 'swollen_blood_vessels': 235, 'swollen_extremeties': 236, 'swollen_glands': 237, 'swollen_legs': 238, 'swollen_lymph_glands': 239, 'swollen_throat': 240, 'tachycardia': 241, 'tearing': 242, 'temperature_changes_regularly': 243, 'thick_black_phlegm': 244, 'thick_saliva': 245, 'thin_shiny_skin': 246, 'thinning_skin': 247, 'throat_irritation': 248, 'tingling_in_throat': 249, 'tingling_or_numbness_of_the_lips_tongue_or_cheek': 250, 'tiredness': 251, 'toxic_look_(typhos)': 252, 'tremor': 253, 'trouble_breathing': 254, 'trouble_falling_asleep_at_night': 255, 'trouble_sleeping': 256, 'trouble_swallowing': 257, 'ulcers_on_tongue': 258, 'unexplained_bleeding_bruising': 259, 'unsteadiness': 260, 'urinating_often': 261, 'urine stools or vomit': 262, 'urine_frequently_black_red': 263, 'vision_loss': 264, 'visual_disturbances': 265, 'visual_phenomena': 266, 'vomiting': 267, 'waking_up_during_night': 268, 'waking_up_too_early': 269, 'warm_moist_skin': 270, 'watering_from_eyes': 271, 'weakness': 272, 'weakness_in_limbs': 273, 'weakness_of_one_body_side': 274, 'weight_changes': 275, 'weight_gain': 276, 'weight_loss': 277, 'wheezing': 278, 'worsening_pain_if_bend_forward_or_lie_down': 279, 'yellow_crust_ooze': 280, 'yellow_urine': 281, 'yellowing_of_eyes': 282, 'yellowish_skin': 283}\n",
    "diseases_list={0: '(Vertigo) Paroymsal  Positional Vertigo', 1: 'Acne', 2: 'Addisons Disease', 3: 'Aids', 4: 'Alcoholic Hepatitis', 5: 'Allergy', 6: 'Arthritis', 7: 'Asthma', 8: 'Bronchial Asthma', 9: 'Cancer', 10: 'Cervical Spondylosis', 11: 'Chicken Pox', 12: 'Chronic Cholestasis', 13: 'Cirrhosis', 14: 'Common Cold', 15: 'Dengue', 16: 'Dengue Fever', 17: 'Diabetes', 18: 'Diabetes ', 19: 'Dimorphic Hemmorhoids(Piles)', 20: 'Drug Reaction', 21: 'Fungal Infection', 22: 'Gangrene', 23: 'Gastroenteritis', 24: 'Gastroesophageal Reflux Disease', 25: 'Gerd', 26: 'Heart Attack', 27: 'Hepatitis A', 28: 'Hepatitis B', 29: 'Hepatitis C', 30: 'Hepatitis D', 31: 'Hepatitis E', 32: 'Hiv Aids', 33: 'Hypercalcemia', 34: 'Hypertension', 35: 'Hypertension ', 36: 'Hyperthyroidism', 37: 'Hypoglycemia', 38: 'Hypothyroidism', 39: 'Impetigo', 40: 'Insomnia', 41: 'Jaundice', 42: 'Kidney Stones', 43: 'Lichen Planus', 44: 'Lymphoma', 45: 'Malaria', 46: 'Migraine', 47: 'Migraine Headache', 48: 'Occupational Asthma', 49: 'Osteoarthristis', 50: 'Paralysis (Brain Hemorrhage)', 51: 'Peptic Ulcer Diseae', 52: 'Peripheral Nerve Injuries', 53: 'Pneumonia', 54: 'Psoriasis', 55: 'Salmonella', 56: 'Sinus Headaches', 57: 'Sleep Disorders', 58: 'Tuberculosis', 59: 'Typhoid', 60: 'Typhoid Fever', 61: 'Urinary Tract Infection', 62: 'Varicose Veins'}\n",
    "# Model Prediction function\n"
   ]
  },
  {
   "cell_type": "code",
   "execution_count": 13,
   "metadata": {},
   "outputs": [],
   "source": [
    "description = pd.read_csv(\"./datasets/description.csv\")\n",
    "def helper(dis):\n",
    "    desc = description[description['Disease'] == predicted_disease]['Description']\n",
    "    desc = \" \".join([w for w in desc])\n",
    "    return desc\n",
    "\n",
    "def get_predicted_value(patient_symptoms):\n",
    "    input_vector = np.zeros(len(symptoms_dict))\n",
    "    for item in patient_symptoms:\n",
    "        input_vector[symptoms_dict[item]] = 1\n",
    "    return diseases_list[svc.predict([input_vector])[0]]\n",
    "# Test 1\n",
    "# Split the user's input into a list of symptoms (assuming they are comma-separated) # itching,skin_rash,nodal_skin_eruptions\n",
    "symptoms = input(\"Enter your symptoms.......\")\n",
    "\n",
    "user_symptoms = [s.strip() for s in symptoms.split(',')]\n",
    "# Remove any extra characters, if any\n",
    "user_symptoms = [symptom.strip(\"[]' \") for symptom in user_symptoms]\n",
    "predicted_disease = get_predicted_value(user_symptoms)\n",
    "desc = helper(predicted_disease)\n",
    "\n",
    "print(\"=================predicted disease============\")\n",
    "print(predicted_disease)\n",
    "print(\"=================description==================\")\n",
    "print(desc)"
   ]
  },
  {
   "cell_type": "code",
   "execution_count": 5,
   "metadata": {},
   "outputs": [
    {
     "name": "stderr",
     "output_type": "stream",
     "text": [
      "c:\\ProgramData\\anaconda3\\Lib\\site-packages\\sklearn\\base.py:318: UserWarning: Trying to unpickle estimator SVC from version 1.4.1.post1 when using version 1.2.2. This might lead to breaking code or invalid results. Use at your own risk. For more info please refer to:\n",
      "https://scikit-learn.org/stable/model_persistence.html#security-maintainability-limitations\n",
      "  warnings.warn(\n"
     ]
    },
    {
     "data": {
      "application/vnd.jupyter.widget-view+json": {
       "model_id": "3f4ed44c970a47cdb79bc84c2636e951",
       "version_major": 2,
       "version_minor": 0
      },
      "text/plain": [
       "Text(value='', description='Symptoms:', placeholder='Enter comma-separated symptoms')"
      ]
     },
     "metadata": {},
     "output_type": "display_data"
    },
    {
     "data": {
      "application/vnd.jupyter.widget-view+json": {
       "model_id": "b875dcf7c3f842ffb6b7dbb2cd226020",
       "version_major": 2,
       "version_minor": 0
      },
      "text/plain": [
       "Button(description='Predict', icon='check', style=ButtonStyle(), tooltip='Click me')"
      ]
     },
     "metadata": {},
     "output_type": "display_data"
    },
    {
     "name": "stdout",
     "output_type": "stream",
     "text": [
      "=================predicted disease============\n",
      "Malaria\n",
      "=================description==================\n",
      "Malaria is a serious and sometimes life-threatening disease caused by parasites transmitted to humans through the bites of infected Anopheles mosquitoes, leading to symptoms like fever, chills, and flu-like illness.\n",
      "=================Speicalists==================\n",
      "Infectious Disease Specialist,Family Doctor\n"
     ]
    },
    {
     "name": "stderr",
     "output_type": "stream",
     "text": [
      "c:\\ProgramData\\anaconda3\\Lib\\site-packages\\sklearn\\base.py:439: UserWarning: X does not have valid feature names, but SVC was fitted with feature names\n",
      "  warnings.warn(\n"
     ]
    }
   ],
   "source": [
    "import ipywidgets as widgets\n",
    "from IPython.display import display\n",
    "import numpy as np\n",
    "import pickle\n",
    "import pandas as pd\n",
    "#============================================================\n",
    "\n",
    "symptoms_dict={'abdominal_pain': 0, 'abnormal_menstruation': 1, 'achy_feeling_in_upper_teeth': 2, 'acidity': 3, 'acute_liver_failure': 4, 'altered_sensorium': 5, 'anxiety': 6, 'areas_of_darkened_skin': 7, 'arrhythmia': 8, 'back_pain': 9, 'belly_pain': 10, 'blackheads': 11, 'bladder_discomfort': 12, 'bleeding_gum_or_nose': 13, 'blister': 14, 'blisters': 15, 'blood_in _sputum': 16, 'blood_in_sputum': 17, 'bloody_stool': 18, 'blurred_and_distorted_vision': 19, 'blurry_vision': 20, 'bone_pain': 21, 'breathing_in_unusual_pattern': 22, 'breathlessness': 23, 'brittle_nails': 24, 'bruising': 25, 'burning_micturition': 26, 'cardiac_arrhythmia': 27, 'changes_in_bowel_or_bladder_habits': 28, 'changes_in_bowel_patterns': 29, 'changes_in_menstrual_cycles': 30, 'changes_in_skin_color': 31, 'changes_to_existing_moles': 32, 'chest_pain': 33, 'chest_tightness': 34, 'chills': 35, 'chronic_diarrhea': 36, 'cold_hands_and_feets': 37, 'coma': 38, 'confused': 39, 'confusion': 40, 'congestion': 41, 'constipation': 42, 'continuous_feel_of_urine': 43, 'continuous_sneezing': 44, 'cough': 45, 'coughing': 46, 'coughing_wheezing_attacks_that_worsened_respiratory_virus_such_cold_flu': 47, 'cramps': 48, 'dark_urine': 49, 'darkening_or_redness_skin': 50, 'daytime_tiredness_sleepiness': 51, 'dehydration': 52, 'depression': 53, 'diarrhea': 54, 'diarrhoea': 55, 'difficulty_concentrating': 56, 'difficulty_falling_asleep_at_night': 57, 'difficulty_focusing': 58, 'difficulty_paying_attention_focusing_on_tasks': 59, 'difficulty_swallowing': 60, 'dischromic__patches': 61, 'discomfort_after_eating': 62, 'distention_of_abdomen': 63, 'dizziness': 64, 'drowsiness_slurred_speech': 65, 'dry_cough': 66, 'dry_red_scaly_patches_on_skin': 67, 'drying_and_tingling_lips': 68, 'enlarged_thyroid': 69, 'enlarged_thyroid_gland': 70, 'excessive_hunger': 71, 'excessive_thirst': 72, 'extra_marital_contacts': 73, 'eye_irritation': 74, 'eyesight_problems': 75, 'fainting': 76, 'falling_asleep_at_inappropriate_time': 77, 'family_history': 78, 'fast_heart_rate': 79, 'fatigue': 80, 'feel_full': 81, 'feel_like_eating': 82, 'feeling_elated': 83, 'feeling_irritable_or_mood_changes': 84, 'feeling_more_thirsty_than_usual': 85, 'feeling_unwell': 86, 'fever': 87, 'fever_low_increases_throughout_the_day': 88, 'fluid_accumulation_in_abdomen': 89, 'fluid_overload': 90, 'food_cravings': 91, 'foul_smell_of_urine': 92, 'foul_smelling_discharge_from_sore': 93, 'frequent_yawning': 94, 'getting_lot_of_infections': 95, 'goiter': 96, 'headache': 97, 'heartburn': 98, 'high_fever': 99, 'hip_joint_pain': 100, 'history_of_alcohol_consumption': 101, 'hoarseness': 102, 'increased_appetite': 103, 'increased_sensitivity_heat': 104, 'indigestion': 105, 'inflammatory_nails': 106, 'internal_itching': 107, 'irregular_heartbeat': 108, 'irregular_sleep_and_wake_cycle': 109, 'irregular_sugar_level': 110, 'irritability': 111, 'irritation': 112, 'irritation_in_anus': 113, 'itching': 114, 'itchy_skin': 115, 'joint_pain': 116, 'knee_pain': 117, 'lack_of_concentration': 118, 'larger_fluid_filled_blisters_on_trunk': 119, 'lethargy': 120, 'lightheadedness': 121, 'looking_pale': 122, 'loss_of_appetite': 123, 'loss_of_balance': 124, 'loss_of_consciousness': 125, 'loss_of_coordination': 126, 'loss_of_smell': 127, 'low_blood_pressure': 128, 'low_blood_sugar': 129, 'low_grade_fever': 130, 'lump_or_area_of_thickening_felt_under_skin': 131, 'malaise': 132, 'melancholy': 133, 'mild_fever': 134, 'mild_itchin': 135, 'mood_swings': 136, 'more_frequent_bowel_movements': 137, 'movement_stiffness': 138, 'mucoid_sputum': 139, 'muscle_aches': 140, 'muscle_pain': 141, 'muscle_wasting': 142, 'muscle_weakness': 143, 'nausea': 144, 'neck_pain': 145, 'nervousness': 146, 'night_sweats': 147, 'nightmares': 148, 'nodal_skin_eruptions': 149, 'numbness_or_tingling_in_hands_or_feet': 150, 'obesity': 151, 'oral_yeast_infection': 152, 'pain': 153, 'pain_behind_eyes': 154, 'pain_behind_the_eyes': 155, 'pain_during_bowel_movements': 156, 'pain_in_anal_region': 157, 'pain_in_lower_back _or_legs': 158, 'painful_fluid_or_pus_filled_sores': 159, 'painful_mouth_sores': 160, 'painful_walking': 161, 'pale_fingernails': 162, 'palpitations': 163, 'passage_of_gases': 164, 'patches_in_throat': 165, 'persistent_cough': 166, 'persistent_indigestion': 167, 'persistent_unexplained_fatigue': 168, 'persistent_unexplained_fevers_night_sweats': 169, 'persistent_unexplained_muscle_or_joint_pain': 170, 'persistent_white_spots_or_unusual_lesions_on_tongue': 171, 'phlegm': 172, 'pins_and_needles_sensations': 173, 'pneumonia': 174, 'polyuria': 175, 'pressure_fullness_in_cheeks_brow_or_forehead': 176, 'prominent_veins_on_calf': 177, 'puffy_face_and_eyes': 178, 'pus_filled_pimples': 179, 'rash': 180, 'receiving_blood_transfusion': 181, 'receiving_unsterile_injections': 182, 'recurring_fever': 183, 'red_sore_around_nose': 184, 'red_spots_over_body': 185, 'reddish_sores': 186, 'redness_of_eyes': 187, 'redness_palms_hands': 188, 'restlessness': 189, 'rheadache': 190, 'runny_nose': 191, 'rusty_sputum': 192, 'scurring': 193, 'seizures': 194, 'severe_itching': 195, 'severe_weakness': 196, 'shakiness': 197, 'shingles': 198, 'shivering': 199, 'silver_like_dusting': 200, 'sinus_pressure': 201, 'skin_changes': 202, 'skin_peeling': 203, 'skin_rash': 204, 'skin_rashes_bumps': 205, 'skin_without_hair': 206, 'sleep_problems': 207, 'slow_healing_sores': 208, 'slurred_speech': 209, 'small_dents_in_nails': 210, 'sore_muscles': 211, 'sore_neck': 212, 'sore_throat': 213, 'sores_around_nose_mouth': 214, 'sores_quickly_rupture': 215, \"sores_that_won't_heal\": 216, 'spinning_movements': 217, 'spotting__urination': 218, 'spread_of_sores_to_other_areas_through_touch': 219, 'stiff_neck': 220, 'stomach_bleeding': 221, 'stomach_pain': 222, 'stomach_upset': 223, 'stuffy_nose': 224, 'such_as_yellowing': 225, 'sudden_severe_pain_followed_by_numbness': 226, 'sunken_eyes': 227, 'sweating': 228, 'sweats': 229, 'swelled_lymph_nodes': 230, 'swelling': 231, 'swelling_at_base_of_neck': 232, 'swelling_joints': 233, 'swelling_of_stomach': 234, 'swollen_blood_vessels': 235, 'swollen_extremeties': 236, 'swollen_glands': 237, 'swollen_legs': 238, 'swollen_lymph_glands': 239, 'swollen_throat': 240, 'tachycardia': 241, 'tearing': 242, 'temperature_changes_regularly': 243, 'thick_black_phlegm': 244, 'thick_saliva': 245, 'thin_shiny_skin': 246, 'thinning_skin': 247, 'throat_irritation': 248, 'tingling_in_throat': 249, 'tingling_or_numbness_of_the_lips_tongue_or_cheek': 250, 'tiredness': 251, 'toxic_look_(typhos)': 252, 'tremor': 253, 'trouble_breathing': 254, 'trouble_falling_asleep_at_night': 255, 'trouble_sleeping': 256, 'trouble_swallowing': 257, 'ulcers_on_tongue': 258, 'unexplained_bleeding_bruising': 259, 'unsteadiness': 260, 'urinating_often': 261, 'urine stools or vomit': 262, 'urine_frequently_black_red': 263, 'vision_loss': 264, 'visual_disturbances': 265, 'visual_phenomena': 266, 'vomiting': 267, 'waking_up_during_night': 268, 'waking_up_too_early': 269, 'warm_moist_skin': 270, 'watering_from_eyes': 271, 'weakness': 272, 'weakness_in_limbs': 273, 'weakness_of_one_body_side': 274, 'weight_changes': 275, 'weight_gain': 276, 'weight_loss': 277, 'wheezing': 278, 'worsening_pain_if_bend_forward_or_lie_down': 279, 'yellow_crust_ooze': 280, 'yellow_urine': 281, 'yellowing_of_eyes': 282, 'yellowish_skin': 283}\n",
    "diseases_list={0: '(Vertigo) Paroymsal  Positional Vertigo', 1: 'Acne', 2: 'Addisons Disease', 3: 'Aids', 4: 'Alcoholic Hepatitis', 5: 'Allergy', 6: 'Arthritis', 7: 'Asthma', 8: 'Bronchial Asthma', 9: 'Cancer', 10: 'Cervical Spondylosis', 11: 'Chicken Pox', 12: 'Chronic Cholestasis', 13: 'Cirrhosis', 14: 'Common Cold', 15: 'Dengue', 16: 'Dengue Fever', 17: 'Diabetes', 18: 'Diabetes ', 19: 'Dimorphic Hemmorhoids(Piles)', 20: 'Drug Reaction', 21: 'Fungal Infection', 22: 'Gangrene', 23: 'Gastroenteritis', 24: 'Gastroesophageal Reflux Disease', 25: 'Gerd', 26: 'Heart Attack', 27: 'Hepatitis A', 28: 'Hepatitis B', 29: 'Hepatitis C', 30: 'Hepatitis D', 31: 'Hepatitis E', 32: 'Hiv Aids', 33: 'Hypercalcemia', 34: 'Hypertension', 35: 'Hypertension ', 36: 'Hyperthyroidism', 37: 'Hypoglycemia', 38: 'Hypothyroidism', 39: 'Impetigo', 40: 'Insomnia', 41: 'Jaundice', 42: 'Kidney Stones', 43: 'Lichen Planus', 44: 'Lymphoma', 45: 'Malaria', 46: 'Migraine', 47: 'Migraine Headache', 48: 'Occupational Asthma', 49: 'Osteoarthristis', 50: 'Paralysis (Brain Hemorrhage)', 51: 'Peptic Ulcer Diseae', 52: 'Peripheral Nerve Injuries', 53: 'Pneumonia', 54: 'Psoriasis', 55: 'Salmonella', 56: 'Sinus Headaches', 57: 'Sleep Disorders', 58: 'Tuberculosis', 59: 'Typhoid', 60: 'Typhoid Fever', 61: 'Urinary Tract Infection', 62: 'Varicose Veins'}\n",
    "# Model Prediction function\n",
    "\n",
    "\n",
    "svc = pickle.load(open(\"./../ml_service/models/svc.pkl\",'rb'))\n",
    "\n",
    "# Create a text box widget\n",
    "symptoms_input = widgets.Text(\n",
    "    value='',\n",
    "    placeholder='Enter comma-separated symptoms',\n",
    "    description='Symptoms:',\n",
    "    disabled=False\n",
    ")\n",
    "\n",
    "# Create a button widget\n",
    "button = widgets.Button(\n",
    "    description='Predict',\n",
    "    disabled=False,\n",
    "    button_style='',\n",
    "    tooltip='Click me',\n",
    "    icon='check'\n",
    ")\n",
    "\n",
    "description = pd.read_csv(\"./../ml_service/datasets/description.csv\")\n",
    "def helper(predicted_disease):\n",
    "    desc = description[description['Disease'] == predicted_disease]['Description'].values\n",
    "    specialists = description[description['Disease'] == predicted_disease]['Specialist'].values\n",
    "    \n",
    "    desc = \" \".join([w for w in desc])\n",
    "    specialists = \", \".join([s for s in specialists])\n",
    "    \n",
    "    return desc, specialists\n",
    "\n",
    "# Define the button click event handler\n",
    "def on_button_clicked(b):\n",
    "    symptoms = symptoms_input.value\n",
    "    user_symptoms = [s.strip() for s in symptoms.split(',')]\n",
    "    user_symptoms = [symptom.strip(\"[]' \") for symptom in user_symptoms]\n",
    "    \n",
    "    # Call the prediction function (this is a mock function for now)\n",
    "    predicted_disease = get_predicted_value(user_symptoms)\n",
    "    desc,specialists = helper(predicted_disease)\n",
    "    # Display the prediction\n",
    "    print(\"=================predicted disease============\")\n",
    "    print(predicted_disease)\n",
    "    print(\"=================description==================\")\n",
    "    print(desc)\n",
    "    print(\"=================Speicalists==================\")\n",
    "    print(specialists)\n",
    "\n",
    "# Link the button click event to the handler\n",
    "button.on_click(on_button_clicked)\n",
    "\n",
    "# Display the widgets\n",
    "display(symptoms_input)\n",
    "display(button)\n",
    "\n",
    "# Mock prediction function\n",
    "def get_predicted_value(patient_symptoms):\n",
    "    input_vector = np.zeros(len(symptoms_dict))\n",
    "    for item in patient_symptoms:\n",
    "        input_vector[symptoms_dict[item]] = 1\n",
    "    return diseases_list[svc.predict([input_vector])[0]]\n"
   ]
  }
 ],
 "metadata": {
  "kernelspec": {
   "display_name": "Python 3",
   "language": "python",
   "name": "python3"
  },
  "language_info": {
   "codemirror_mode": {
    "name": "ipython",
    "version": 3
   },
   "file_extension": ".py",
   "mimetype": "text/x-python",
   "name": "python",
   "nbconvert_exporter": "python",
   "pygments_lexer": "ipython3",
   "version": "3.11.7"
  }
 },
 "nbformat": 4,
 "nbformat_minor": 2
}
